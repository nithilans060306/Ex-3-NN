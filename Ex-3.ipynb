{
 "cells": [
  {
   "cell_type": "code",
   "execution_count": 1,
   "metadata": {},
   "outputs": [],
   "source": [
    "import numpy as np\n",
    "import pandas as pd\n",
    "import io\n",
    "import matplotlib.pyplot as plt"
   ]
  },
  {
   "cell_type": "code",
   "execution_count": 2,
   "metadata": {},
   "outputs": [],
   "source": [
    "# Initialize the input vector and output vector for XOR\n",
    "x=np.array([[0,0,1,1],[0,1,0,1]])\n",
    "y=np.array([[0,1,1,0]]) "
   ]
  },
  {
   "cell_type": "code",
   "execution_count": 3,
   "metadata": {},
   "outputs": [],
   "source": [
    "#Initialize the structure of  MLP with input ,hidden  and output layer\n",
    "n_x = 2\n",
    "n_y = 1\n",
    "n_h = 2\n",
    "m = x.shape[1]\n",
    "lr = 0.1\n",
    "np.random.seed(2)"
   ]
  },
  {
   "cell_type": "code",
   "execution_count": 5,
   "metadata": {},
   "outputs": [],
   "source": [
    "# Weight matrix for hidden layer randomly\n",
    "w1=np.random.rand(n_h, n_x)\n",
    "w2=np.random.rand(n_y, n_h)\n"
   ]
  },
  {
   "cell_type": "code",
   "execution_count": 6,
   "metadata": {},
   "outputs": [],
   "source": [
    "losses=[]\n",
    "def sigmoid(z):\n",
    "    z=1/(1+np.exp(-z))\n",
    "    return z"
   ]
  },
  {
   "cell_type": "code",
   "execution_count": 7,
   "metadata": {},
   "outputs": [],
   "source": [
    "def forward_prop(w1,w2,x):\n",
    "    z1 = np.dot(w1,x)\n",
    "    a1 = sigmoid(z1)\n",
    "    z2 = np.dot(w2,a1)\n",
    "    a2 = sigmoid(z2)\n",
    "    return z1,a1,z2,a2"
   ]
  },
  {
   "cell_type": "code",
   "execution_count": 8,
   "metadata": {},
   "outputs": [],
   "source": [
    "def back_prop(m,w1,w2,z1,a1,z2,a2,y):\n",
    "    dz2=a2-y\n",
    "    dw2=np.dot(dz2,a1.T)/m\n",
    "    dz1=np.dot(w2.T,dz2)*a1*(1-a1)\n",
    "    dw1=np.dot(dz1,x.T)/m\n",
    "    dw1=np.reshape(dw1,w1.shape)\n",
    "    dw2=np.reshape(dw2,w2.shape)\n",
    "    return dz2,dw2,dz1,dw1"
   ]
  },
  {
   "cell_type": "code",
   "execution_count": 9,
   "metadata": {},
   "outputs": [],
   "source": [
    "#Train the MLP\n",
    "iterations = 10000\n",
    "for i in range(iterations):\n",
    "    z1,a1,z2,a2=forward_prop(w1,w2,x)\n",
    "    loss= -(1/m)*np.sum(y*np.log(a2)+(1-y)*np.log(1-a2))\n",
    "    losses.append(loss)\n",
    "    da2,dw2,dz1,dw1=back_prop(m,w1,w2,z1,a1,z2,a2,y)\n",
    "    w2=w2-lr*dw2\n",
    "    w1=w1-lr*dw1"
   ]
  },
  {
   "cell_type": "code",
   "execution_count": 10,
   "metadata": {},
   "outputs": [
    {
     "data": {
      "text/plain": [
       "Text(0, 0.5, 'Loss value')"
      ]
     },
     "execution_count": 10,
     "metadata": {},
     "output_type": "execute_result"
    },
    {
     "data": {
      "image/png": "[encoded data removed]",
      "text/plain": [
       "<Figure size 640x480 with 1 Axes>"
      ]
     },
     "metadata": {},
     "output_type": "display_data"
    }
   ],
   "source": [
    "# plot losses to see how our network is doing\n",
    "plt.plot(losses)\n",
    "plt.xlabel(\"EPOCHS\")\n",
    "plt.ylabel(\"Loss value\")"
   ]
  },
  {
   "cell_type": "code",
   "execution_count": 11,
   "metadata": {},
   "outputs": [],
   "source": [
    "#Test the XOR classification\n",
    "def predict(w1,w2,input):\n",
    "    z1,a1,z2,a2=forward_prop(w1,w2,input)\n",
    "    a2=np.squeeze(a2)\n",
    "    if a2>=0.5:\n",
    "        print([i[0] for i in input],1)\n",
    "    else:\n",
    "        print([i[0] for i in input],0)"
   ]
  },
  {
   "cell_type": "code",
   "execution_count": 13,
   "metadata": {},
   "outputs": [
    {
     "name": "stdout",
     "output_type": "stream",
     "text": [
      "Input Output\n",
      "[np.int64(1), np.int64(1)] 0\n",
      "[np.int64(1), np.int64(0)] 1\n",
      "[np.int64(0), np.int64(1)] 1\n",
      "[np.int64(0), np.int64(0)] 0\n"
     ]
    }
   ],
   "source": [
    "print('Input','Output')\n",
    "test=np.array([[1],[1]])\n",
    "predict(w1,w2,test)\n",
    "test=np.array([[1],[0]])\n",
    "predict(w1,w2,test)\n",
    "test=np.array([[0],[1]])\n",
    "predict(w1,w2,test)\n",
    "test=np.array([[0],[0]])\n",
    "predict(w1,w2,test)"
   ]
  },
  {
   "cell_type": "code",
   "execution_count": null,
   "metadata": {},
   "outputs": [],
   "source": []
  }
 ],
 "metadata": {
  "kernelspec": {
   "display_name": "Python 3",
   "language": "python",
   "name": "python3"
  },
  "language_info": {
   "codemirror_mode": {
    "name": "ipython",
    "version": 3
   },
   "file_extension": ".py",
   "mimetype": "text/x-python",
   "name": "python",
   "nbconvert_exporter": "python",
   "pygments_lexer": "ipython3",
   "version": "3.11.13"
  }
 },
 "nbformat": 4,
 "nbformat_minor": 2
}
